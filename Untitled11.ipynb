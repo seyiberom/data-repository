{
  "nbformat": 4,
  "nbformat_minor": 0,
  "metadata": {
    "colab": {
      "provenance": [],
      "authorship_tag": "ABX9TyMAkY9sck+gtSj//m/fXXEE",
      "include_colab_link": true
    },
    "kernelspec": {
      "name": "python3",
      "display_name": "Python 3"
    },
    "language_info": {
      "name": "python"
    }
  },
  "cells": [
    {
      "cell_type": "markdown",
      "metadata": {
        "id": "view-in-github",
        "colab_type": "text"
      },
      "source": [
        "<a href=\"https://colab.research.google.com/github/seyiberom/data-repository/blob/main/Untitled11.ipynb\" target=\"_parent\"><img src=\"https://colab.research.google.com/assets/colab-badge.svg\" alt=\"Open In Colab\"/></a>"
      ]
    },
    {
      "cell_type": "markdown",
      "source": [
        "ASSIGNMENT1_BEROM_OLUSEYI_2300784.pdf"
      ],
      "metadata": {
        "id": "beFE_cp86RES"
      }
    },
    {
      "cell_type": "code",
      "source": [
        "import numpy as np"
      ],
      "metadata": {
        "id": "WLRtoUY7wpNC"
      },
      "execution_count": 32,
      "outputs": []
    },
    {
      "cell_type": "code",
      "execution_count": 33,
      "metadata": {
        "id": "XlnaGWEOiP3H"
      },
      "outputs": [],
      "source": [
        "#implement compute_bord\n",
        "def compute_Bord(pat):\n",
        "  bord = []\n",
        "  bord.append(-1)\n",
        "  t = -1\n",
        "  for  jj in range (1, len(pat)+1):\n",
        "    while (t >= 0) and (pat[t] != pat[jj-1]):\n",
        "        t = bord[t]\n",
        "\n",
        "    t=t+1\n",
        "    bord.append(t)\n",
        "  return bord\n"
      ]
    },
    {
      "cell_type": "code",
      "source": [
        "# implement MP Algorithm\n",
        "def algorithm_MP(text, pat, s):\n",
        "  i = 0\n",
        "  j = 0\n",
        "  m = len(pat)\n",
        "  n = len(text)\n",
        "  while i <= (n - m):\n",
        "    while (j < m) and (pat[j] == text[i+j]):\n",
        "      j = j + 1\n",
        "    if j == m :\n",
        "     return True\n",
        "    i = i + s[j]\n",
        "    j = max(0, (j-s[j]))\n",
        "  return False"
      ],
      "metadata": {
        "id": "7msl_e6wNnxG"
      },
      "execution_count": 34,
      "outputs": []
    },
    {
      "cell_type": "code",
      "source": [
        "# implement procedure compute_Strong_Bord\n",
        "def compute_Strong_Bord(pat):\n",
        "  strong_Bord = []\n",
        "  strong_Bord.append(-1)\n",
        "  t = -1\n",
        "  m = len(pat)\n",
        "  for jj in range (1,  m+1):\n",
        "    while (t >= 0) and (pat[t] != pat[jj-1]):\n",
        "      t = strong_Bord[t]\n",
        "    t = t +1\n",
        "    if (jj == m) or (pat[t] != pat[jj]):\n",
        "      strong_Bord.append(t)\n",
        "    else:\n",
        "      strong_Bord.append(strong_Bord[t])\n",
        "  return strong_Bord\n"
      ],
      "metadata": {
        "id": "K98YjYHQWwEp"
      },
      "execution_count": 35,
      "outputs": []
    },
    {
      "cell_type": "code",
      "source": [
        "# implement KMP ALGORITHM\n",
        "def algorithm_KMP(text, pat, kmp_shift):\n",
        "  i = 0\n",
        "  j = 0\n",
        "  m = len(pat)\n",
        "  n = len(text)\n",
        "  while i <= (n - m):\n",
        "    while (j < m) and (pat[j] == text[i+j]):\n",
        "      j = j + 1\n",
        "    if j == m :\n",
        "     return True\n",
        "    i = i + kmp_shift[j]\n",
        "    j = max(0, (j-kmp_shift[j]))\n",
        "  return False"
      ],
      "metadata": {
        "id": "DXhLSWjz0bDM"
      },
      "execution_count": 36,
      "outputs": []
    },
    {
      "cell_type": "markdown",
      "source": [
        "ASSIGNMENT1_BEROM_OLUSEYI_2300784.pdf"
      ],
      "metadata": {
        "id": "-D1kkm1p8A8w"
      }
    },
    {
      "cell_type": "code",
      "source": [
        "# implement compute_Bord Algorthim\n",
        "pat = 'MAAMAMMA'\n",
        "text = 'JO_HOMMAAMME_MAAMAP_MAAMAMMAN'\n",
        "bord = []\n",
        "s = []\n",
        "j = []\n",
        "bord = compute_Bord(pat)\n",
        "# set up array of j from 1 to n\n",
        "#set up array of table of borderds and another array of table of strong borders\n",
        "j = [i for i in range (0, len(pat)+1)]\n",
        "s = [(j[i]-bord[i]) for i in range(0, len(pat)+1)]\n",
        "\n",
        "print('j:    ', j)\n",
        "print('Bord :', bord)\n",
        "print('s:    ', s)"
      ],
      "metadata": {
        "colab": {
          "base_uri": "https://localhost:8080/"
        },
        "id": "iflihOc5jwZV",
        "outputId": "c8a8ad12-f0ba-4dc9-91e4-545dcf317c13"
      },
      "execution_count": null,
      "outputs": [
        {
          "output_type": "stream",
          "name": "stdout",
          "text": [
            "j:     [0, 1, 2, 3, 4, 5, 6, 7, 8]\n",
            "Bord : [-1, 0, 0, 0, 1, 2, 1, 1, 2]\n",
            "s:     [1, 1, 2, 3, 3, 3, 5, 6, 6]\n"
          ]
        }
      ]
    },
    {
      "cell_type": "markdown",
      "source": [
        "# New section"
      ],
      "metadata": {
        "id": "w2-7Yr0F4C56"
      }
    },
    {
      "cell_type": "code",
      "source": [
        "# dry run the MP Algorithm\n",
        "mp_algo = algorithm_MP(text, pat, s)\n",
        "print(mp_algo)\n",
        "\n"
      ],
      "metadata": {
        "colab": {
          "base_uri": "https://localhost:8080/"
        },
        "id": "pj4jOvJRMaq2",
        "outputId": "d8c5c22d-5153-48ed-ab1f-d02d2f63324f"
      },
      "execution_count": null,
      "outputs": [
        {
          "output_type": "stream",
          "name": "stdout",
          "text": [
            "True\n"
          ]
        }
      ]
    },
    {
      "cell_type": "code",
      "source": [
        "# compute Strong_Bord and prepare for KMP Algorithm\n",
        "pat = 'MAAMAMMA'\n",
        "text = 'JO_HOMMAAMME_MAAMAP_MAAMAMMAN'\n",
        "strong_Bord = compute_Strong_Bord(pat)\n",
        "j = [i for i in range (0, len(pat)+1)]\n",
        "kmp_shift = [(j[i]-strong_Bord[i]) for i in range(0, len(pat)+1)]\n",
        "print('j:           ', j)\n",
        "print('Strong_Bord :', strong_Bord)\n",
        "print('KMP_Shift:   ', kmp_shift)\n"
      ],
      "metadata": {
        "colab": {
          "base_uri": "https://localhost:8080/"
        },
        "id": "JgcomRLOaG6j",
        "outputId": "1bd69c76-f119-4d81-bf82-673e3574e0ae"
      },
      "execution_count": null,
      "outputs": [
        {
          "output_type": "stream",
          "name": "stdout",
          "text": [
            "j:            [0, 1, 2, 3, 4, 5, 6, 7, 8]\n",
            "Strong_Bord : [-1, 0, 0, -1, 0, 2, 1, 0, 2]\n",
            "KMP_Shift:    [1, 1, 2, 4, 4, 3, 5, 7, 6]\n"
          ]
        }
      ]
    },
    {
      "cell_type": "code",
      "source": [
        "# dry run the KMP Algorithm\n",
        "kmp_algo = algorithm_MP(text, pat, kmp_shift)\n",
        "print(kmp_algo)"
      ],
      "metadata": {
        "colab": {
          "base_uri": "https://localhost:8080/"
        },
        "id": "vyletiww1OPh",
        "outputId": "075a176d-9761-4b38-9fbd-df0fc8a15579"
      },
      "execution_count": null,
      "outputs": [
        {
          "output_type": "stream",
          "name": "stdout",
          "text": [
            "True\n"
          ]
        }
      ]
    },
    {
      "cell_type": "code",
      "source": [
        "# define the  R(x) algorithm\n",
        "# R(x) returns the index of the rightmost occurence of a character x in a text w\n",
        "# we have assumed 256 caharacters in the Alphabet\n",
        "no_characters = 256\n",
        "def rx_algorithm(w, size):\n",
        "  bad_char = []\n",
        "  [bad_char.append(0) for  i in range(0, no_characters)]\n",
        "  for i in range(size):\n",
        "    bad_char[ord(w[i])] = i;\n",
        "    # return list showing position of each character in the the text, and zero if charcater is not in the set\n",
        "  return bad_char\n",
        "\n"
      ],
      "metadata": {
        "id": "iJ9hc-jelIfE"
      },
      "execution_count": null,
      "outputs": []
    },
    {
      "cell_type": "markdown",
      "source": [
        "ASSIGNMENT1_BEROM_OLUSEYI_2300784.pdf"
      ],
      "metadata": {
        "id": "iNiIG_qtiXoT"
      }
    },
    {
      "cell_type": "code",
      "source": [
        "# implementing BM algorithm with Bad Charcter Shift rule alone\n",
        "def badcharacter_BM(text, pat):\n",
        "  m = len(pat)\n",
        "  n = len(text)\n",
        "\n",
        "  # proprocessing function to calculate R(x)\n",
        "  bad_char = rx_algorithm(pat, m)\n",
        "\n",
        "\n",
        "  # s is shift of the pattern with respect to text\n",
        "  s = 0\n",
        "  while(s <= n-m):\n",
        "    j = m-1\n",
        "\n",
        "    # Keep start scanning text for pattern from the right keeping the shift\n",
        "    while j>=0 and pat[j] == text[s+j]:\n",
        "      j -= 1\n",
        "\n",
        "      # If the pattern is present at current shift, index j = -1 at the current shift\n",
        "    if j<0:\n",
        "      print(\"Pattern matches  at position = {}\".format(s))\n",
        "      s += (m-bad_char[ord(text[s+m])] if s+m<n else 1)\n",
        "    else:\n",
        "      s += max(1, j-bad_char[ord(text[(s+j)])])\n"
      ],
      "metadata": {
        "id": "0nYwNqZbpDX0"
      },
      "execution_count": null,
      "outputs": []
    },
    {
      "cell_type": "code",
      "source": [
        "# run the bad Character BM on the text and patter given as No 5 of the assignment\n",
        "\n",
        "pat = 'MAAMAMMA'\n",
        "text = 'JO_HOMMAAMME_MAAMAP_MAAMAMMAN'\n",
        "badcharacter_BM(text, pat)\n",
        "\n"
      ],
      "metadata": {
        "colab": {
          "base_uri": "https://localhost:8080/"
        },
        "id": "3IqISsaJrGzz",
        "outputId": "4f94a908-e2d1-4b4a-db4e-c8e54a1825c3"
      },
      "execution_count": null,
      "outputs": [
        {
          "output_type": "stream",
          "name": "stdout",
          "text": [
            "Pattern matches  at position = 20\n"
          ]
        }
      ]
    },
    {
      "cell_type": "code",
      "source": [
        "# implementin the good suffix rule to BM for text searching\n",
        "\n",
        "# preprocessing algorithm\n",
        "\n",
        "# computing l(i) values\n",
        "# sh represent the shift value\n",
        "# m is length of pattern\n",
        "\n",
        "# first calculate l(i)\n",
        "\n",
        "def preprocess_one(sh, l, pat, m):\n",
        "  i = m\n",
        "  j = m + 1\n",
        "  l[i] = j\n",
        "  while i > 0:\n",
        "    while j <= m and pat[i - 1] != pat[j - 1]:\n",
        "      if sh[j] == 0:\n",
        "        sh[j] = j - i\n",
        "      j = l[j]\n",
        "    i -= 1\n",
        "    j -= 1\n",
        "    l[i] = j\n"
      ],
      "metadata": {
        "id": "4MOwKEytBsJs"
      },
      "execution_count": 104,
      "outputs": []
    },
    {
      "cell_type": "code",
      "source": [
        "# calculate l(i)\n",
        "\n",
        "def preprocess_two(sh, l, pat, m):\n",
        "  j = l[0]\n",
        "  for i in range(m + 1):\n",
        "    if sh[i] == 0:\n",
        "      sh[i] = j\n",
        "    if i == j:\n",
        "      j = l[j]"
      ],
      "metadata": {
        "id": "bH6jxxWDEJCF"
      },
      "execution_count": 105,
      "outputs": []
    },
    {
      "cell_type": "markdown",
      "source": [
        "ASSIGNMENT1_BEROM_OLUSEYI_2300784.pdf"
      ],
      "metadata": {
        "id": "ZougQhwOir2O"
      }
    },
    {
      "cell_type": "code",
      "source": [
        "# search for pattern jusing the good suffix rule\n",
        "def goodsuffix_BM(text, pat):\n",
        "  l = []\n",
        "  sh = []\n",
        "  s = 0\n",
        "  m = len(pat)\n",
        "  n = len(text)\n",
        "  # set initial values of l to zero\n",
        "  [l.append(0) for  i in range(0, m + 1)]\n",
        "  [sh.append(0) for  i in range(0, m + 1)]\n",
        "  preprocess_one(sh, l, pat, m)\n",
        "  preprocess_two(sh, l, pat, m)\n",
        "  while s <= n - m:\n",
        "    j = m - 1\n",
        "    while j >= 0 and pat[j] == text[s + j]:\n",
        "      j -= 1\n",
        "    if j < 0:\n",
        "      print(\"pattern matched at position = \" , s)\n",
        "      s += sh[0]\n",
        "    else:\n",
        "      s += sh[j + 1]\n"
      ],
      "metadata": {
        "id": "ZHTJdCq5Fu1Q"
      },
      "execution_count": 106,
      "outputs": []
    },
    {
      "cell_type": "code",
      "source": [
        "# apply the good charater shift BM algorithm\n",
        "\n",
        "pat = 'MAAMAMMA'\n",
        "text = 'JO_HOMMAAMME_MAAMAP_MAAMAMMAN'\n",
        "goodsuffix_BM(text, pat)\n",
        "\n"
      ],
      "metadata": {
        "colab": {
          "base_uri": "https://localhost:8080/",
          "height": 0
        },
        "id": "6MP621jHIcZ_",
        "outputId": "ec7c8703-51dc-44cc-b6ab-1d75b0efdd33"
      },
      "execution_count": 107,
      "outputs": [
        {
          "output_type": "stream",
          "name": "stdout",
          "text": [
            "pattern matched at position =  20\n"
          ]
        }
      ]
    },
    {
      "cell_type": "markdown",
      "source": [
        "# Apply both bad character and good suffix rules to BM algorithm"
      ],
      "metadata": {
        "id": "ikNt8rpk8lSj"
      }
    },
    {
      "cell_type": "code",
      "source": [
        "def match_length(pat: str, p1: int, p2: int) -> int:\n",
        "    #Return the length of the match of the substrings of pat beginning at positions p1 and p2\n",
        "  if p1 == p2:\n",
        "    return len(pat) - p1\n",
        "  match_count = 0\n",
        "  while p1 < len(pat) and p2 < len(pat) and pat[p1] == pat[p2]:\n",
        "    match_count += 1\n",
        "    p1 += 1\n",
        "    p2 += 1\n",
        "  return match_count"
      ],
      "metadata": {
        "id": "8b0_vYZO9Pmc"
      },
      "execution_count": 97,
      "outputs": []
    },
    {
      "cell_type": "code",
      "source": [
        "from re import Pattern\n",
        "def preprocess_pat(pat: str) -> list[int]:\n",
        "  #Return\n",
        "\n",
        "   # pre[i] is the length of the substring beginning at i which is also a prefix of S.\n",
        "\n",
        "\n",
        "    if len(pat) == 0:\n",
        "        return []\n",
        "    if len(pat) == 1:\n",
        "        return [1]\n",
        "    pre = [0 for x in pat]\n",
        "    pre[0] = len(pat)\n",
        "    tt = match_length(pat, 0, 1)\n",
        "    pre[1] = tt\n",
        "    for i in range(2, (1 + tt)):\n",
        "        pre[i].append(pre[1] - i + 1)\n",
        "    l = 0\n",
        "    r = 0\n",
        "    for i in range(2 + pre[1], len(pat)):\n",
        "        if i <= r:\n",
        "            k = i - l\n",
        "            b = pre[k]\n",
        "            a = r - i + 1\n",
        "            if b < a:\n",
        "                pre[i] = b\n",
        "            else:\n",
        "                pre[i] = a + match_length(pat , a, r + 1)\n",
        "                l = i\n",
        "                r = i + L[i] - 1\n",
        "        else:  # i does not reside within existing\n",
        "            pre[i] = match_length(pat, 0, i)\n",
        "            if pre[i] > 0:\n",
        "                l = i\n",
        "    return pre"
      ],
      "metadata": {
        "id": "X1J_awRi_IcG"
      },
      "execution_count": 98,
      "outputs": []
    },
    {
      "cell_type": "code",
      "source": [
        "\n",
        "def good_suffix_table(pat: str) -> list[int]:\n",
        "    L = [-1 for c in pat]\n",
        "    N = preprocess_pat(pat[::-1])  # pat[::-1] reverses S\n",
        "    N.reverse()\n",
        "    for j in range(0, len(pat) - 1):\n",
        "        i = len(pat) - N[j]\n",
        "        if i != len(pat):\n",
        "            L[i] = j\n",
        "    return L"
      ],
      "metadata": {
        "id": "Gv3WTO4lLhe_"
      },
      "execution_count": 90,
      "outputs": []
    },
    {
      "cell_type": "markdown",
      "source": [
        "ASSIGNMENT1_BEROM_OLUSEYI_2300784.pdf"
      ],
      "metadata": {
        "id": "XXPDeeUtjA9s"
      }
    },
    {
      "cell_type": "code",
      "source": [
        "def full_shift_table(pat: str) -> list[int]:\n",
        "\n",
        "   # F[i] is the length of the longest suffix of S[i:] that is also a\n",
        "   # prefix of S. In the cases it is used, the shift magnitude of the pattern P relative to the\n",
        "   # text T is len(pat) - F[i] for a mismatch occurring at i-1.\n",
        "\n",
        "    F = [0 for c in pat]\n",
        "    Y = preprocess_pat(pat)\n",
        "    longest = 0\n",
        "    for i, yv in enumerate(reversed(Y)):\n",
        "        longest = max(yv, longest) if yv == i + 1 else longest\n",
        "        F[-i - 1] = longest\n",
        "    return F"
      ],
      "metadata": {
        "id": "h8Ie_zwyOIg9"
      },
      "execution_count": 84,
      "outputs": []
    },
    {
      "cell_type": "code",
      "source": [
        "# apply both bad character and good suffix rule to BM algorithm\n",
        "def bothrule_BM(text, pat):\n",
        "    if len(pat) == 0 or len(text) == 0 or len(text) < len(pat):\n",
        "        return []\n",
        "\n",
        "    matches = []\n",
        "\n",
        "    # Preprocessing\n",
        "    bad_char = rx_algorithm(pat, len(pat))\n",
        "    L = good_suffix_table(pat)\n",
        "    F = full_shift_table(pat)\n",
        "\n",
        "    k = len(pat) - 1\n",
        "    previous_k = -1\n",
        "    while k < len(text):\n",
        "        i = len(pat) - 1\n",
        "        h = k\n",
        "        while i >= 0 and h > previous_k and pat[i] == text[h]:  # Matches starting from end of P\n",
        "            i -= 1\n",
        "            h -= 1\n",
        "        if i == -1 or h == previous_k:\n",
        "            matches.append(k - len(pat) + 1)\n",
        "            print(\"Pattern match found in poistion  : \", (k-len(pat)+1))\n",
        "            k += len(pat) - F[1] if len(pat) > 1 else 1\n",
        "        else:  # No match, shift by max of bad character and good-suffix rules\n",
        "            char_shift = i - bad_char[ord(text[h])]\n",
        "            if i + 1 == len(pat):  # Mismatch happened on first attempt\n",
        "                suffix_shift = 1\n",
        "            elif L[i + 1] == -1:  # Matched suffix does not appear anywhere in P\n",
        "                suffix_shift = len(pat) - F[i + 1]\n",
        "            else:               # Matched suffix appears in pat\n",
        "                suffix_shift = len(pat) - 1 - L[i + 1]\n",
        "            shift = max(char_shift, suffix_shift)\n",
        "            previous_k = k if shift >= i + 1 else previous_k\n",
        "            k += shift\n",
        "    return matches"
      ],
      "metadata": {
        "id": "ZzMzpTOiVttZ"
      },
      "execution_count": 94,
      "outputs": []
    },
    {
      "cell_type": "code",
      "source": [
        "# test the algorithm for both rules applied together\n",
        "\n",
        "pat = 'MAAMAMMA'\n",
        "text = 'JO_HOMMAAMME_MAAMAP_MAAMAMMAN'\n",
        "bothrule_BM(text, pat)"
      ],
      "metadata": {
        "colab": {
          "base_uri": "https://localhost:8080/",
          "height": 0
        },
        "id": "kLrAhg26YfOt",
        "outputId": "3014493a-61d0-422b-b369-78edd5e60f4b"
      },
      "execution_count": 108,
      "outputs": [
        {
          "output_type": "stream",
          "name": "stdout",
          "text": [
            "Pattern match found in poistion  :  20\n"
          ]
        },
        {
          "output_type": "execute_result",
          "data": {
            "text/plain": [
              "[20]"
            ]
          },
          "metadata": {},
          "execution_count": 108
        }
      ]
    }
  ]
}