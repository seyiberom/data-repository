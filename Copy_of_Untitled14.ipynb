{
  "nbformat": 4,
  "nbformat_minor": 0,
  "metadata": {
    "colab": {
      "provenance": [],
      "authorship_tag": "ABX9TyN9PjsIcCZok7CiRNDNE3+2",
      "include_colab_link": true
    },
    "kernelspec": {
      "name": "python3",
      "display_name": "Python 3"
    },
    "language_info": {
      "name": "python"
    }
  },
  "cells": [
    {
      "cell_type": "markdown",
      "metadata": {
        "id": "view-in-github",
        "colab_type": "text"
      },
      "source": [
        "<a href=\"https://colab.research.google.com/github/seyiberom/data-repository/blob/main/Copy_of_Untitled14.ipynb\" target=\"_parent\"><img src=\"https://colab.research.google.com/assets/colab-badge.svg\" alt=\"Open In Colab\"/></a>"
      ]
    },
    {
      "cell_type": "code",
      "execution_count": null,
      "metadata": {
        "id": "xNe56VN7kEjh"
      },
      "outputs": [],
      "source": [
        "\n",
        "\n",
        "\n",
        "# \"Edit Distance Matrix\"\n",
        "\n"
      ]
    },
    {
      "cell_type": "markdown",
      "source": [
        "ASSIGNMENT3_BEROM_OLUSEYI_2300784\n",
        "APPROXIMATE OCCURENCE, QUESTION 1"
      ],
      "metadata": {
        "id": "q61U3ANAwpiU"
      }
    },
    {
      "cell_type": "code",
      "source": [
        "!pip install pprintpp\n",
        "from tabulate import tabulate\n",
        "import numpy as np\n",
        "import pandas as pd\n",
        "import seaborn as sns\n",
        "import pandas as pd\n"
      ],
      "metadata": {
        "colab": {
          "base_uri": "https://localhost:8080/"
        },
        "id": "xzdrPSViBH0H",
        "outputId": "b297f7a1-9cdb-413e-9073-2c92e6078676"
      },
      "execution_count": null,
      "outputs": [
        {
          "output_type": "stream",
          "name": "stdout",
          "text": [
            "Requirement already satisfied: pprintpp in /usr/local/lib/python3.10/dist-packages (0.4.0)\n"
          ]
        }
      ]
    },
    {
      "cell_type": "code",
      "source": [
        "#implement the scoring rule\n",
        "\n",
        "def score(c1,c2):\n",
        "    if c1 == c2:\n",
        "        return 5\n",
        "    if c2 == \"_\" or c1 == \"_\":\n",
        "        return -1\n",
        "    else:\n",
        "        return -1"
      ],
      "metadata": {
        "id": "d65Czl_P9XU8"
      },
      "execution_count": null,
      "outputs": []
    },
    {
      "cell_type": "code",
      "source": [
        "def print_table(V):\n",
        "    df = tabulate(V, headers = [s2e[t] for t in range(0,len(s2e))], showindex = [s1e[t] for t in range(0,len(s1e))] , tablefmt='heavy_grid')\n",
        "    print(df)\n",
        "\n"
      ],
      "metadata": {
        "id": "ENPCn9KKmsGB"
      },
      "execution_count": null,
      "outputs": []
    },
    {
      "cell_type": "code",
      "source": [
        "import pprintpp\n",
        "pat = \"DAD\"\n",
        "text = \"NOTABADIDEA\"\n",
        "n = len(pat)\n",
        "m = len (text)\n",
        "pointer = [[\"\"] * (m+2) for i in range(0, n+2)]\n",
        "\n",
        "V=[]\n",
        "V = [[0] * (m+2) for i in range(n+2)]\n",
        "for i in range(2, n+2):\n",
        "    for j in range (2, m+2):\n",
        "        V[0][j] = j-1\n",
        "        pointer[0][j] = str(j-1)\n",
        "    V[i][0] = i-1\n",
        "    pointer[i][0] = str(i-1)\n",
        "for j in range(0, m+2):\n",
        "    pointer[1][j] = str(0)\n",
        "# row first calculation of V(i,j), V(o, j) = 0\n",
        "# V(i,0) = Σ s(P(k), _) for k=1,i\n",
        "for i in range(2, n+2):\n",
        "    vio = 0\n",
        "    for k in range(1, i):\n",
        "        vio = vio + score(pat[i-2],\"_\" )\n",
        "    V[i][1] = vio\n",
        "    pointer[i][1] = \"↑\"\n",
        "s1e = \"P \" + pat\n",
        "s2e = \" T \" + text\n",
        "# print initial table\n",
        "print_table(V)\n",
        "\n",
        "# fill the table  by caluclating V(i,j)\n",
        "# v1 =  V(i-1,j) + s(P[i],_)\n",
        "# v2 = V(i, j-1) + s(_, T[j]\n",
        "# V3 = V(i-1, j-1) + s(P[i], T[j])\n",
        "# V(i,i) = max(v1,v2.v3)\n",
        "\n",
        "for i in range(2, n + 2):\n",
        "    for j in range (2, m+2):\n",
        "        v1 = V[i-1][j] + score(pat[i-2], \"_\")\n",
        "        v2 = V[i][j-1] + score(\"_\", text[j-2])\n",
        "        v3 = V[i-1][j-1] + score(pat[i-2], text[j-2])\n",
        "        vmax = max(v1,v2,v3)\n",
        "        V[i][j] = vmax\n",
        "        # set pointers\n",
        "        point =\"\"\n",
        "        if v2 == vmax:\n",
        "            point = point + \"←\"\n",
        "        if v3 == vmax:\n",
        "            point = point + \"↖\"\n",
        "        if v1 == vmax:\n",
        "            point = point + \"↑\"\n",
        "\n",
        "\n",
        "        pointer[i][j] = point\n",
        "print_table(V)\n",
        "print_table(pointer)\n",
        "\n",
        "\n",
        "\n",
        "\n",
        "\n",
        "\n",
        "\n",
        "\n",
        "\n",
        "\n",
        "\n"
      ],
      "metadata": {
        "colab": {
          "base_uri": "https://localhost:8080/"
        },
        "id": "fAvdfb2ykQbN",
        "outputId": "a066c821-06c0-4439-a589-4efe286db290"
      },
      "execution_count": null,
      "outputs": [
        {
          "output_type": "stream",
          "name": "stdout",
          "text": [
            "┏━━━━━┳━━━━━┳━━━━━┳━━━━━┳━━━━━┳━━━━━┳━━━━━┳━━━━━┳━━━━━┳━━━━━┳━━━━━┳━━━━━┳━━━━━┳━━━━━┓\n",
            "┃     ┃   T ┃     ┃   N ┃   O ┃   T ┃   A ┃   B ┃   A ┃   D ┃   I ┃   D ┃   E ┃   A ┃\n",
            "┣━━━━━╋━━━━━╋━━━━━╋━━━━━╋━━━━━╋━━━━━╋━━━━━╋━━━━━╋━━━━━╋━━━━━╋━━━━━╋━━━━━╋━━━━━╋━━━━━┫\n",
            "┃ P   ┃   0 ┃   0 ┃   1 ┃   2 ┃   3 ┃   4 ┃   5 ┃   6 ┃   7 ┃   8 ┃   9 ┃  10 ┃  11 ┃\n",
            "┣━━━━━╋━━━━━╋━━━━━╋━━━━━╋━━━━━╋━━━━━╋━━━━━╋━━━━━╋━━━━━╋━━━━━╋━━━━━╋━━━━━╋━━━━━╋━━━━━┫\n",
            "┃     ┃   0 ┃   0 ┃   0 ┃   0 ┃   0 ┃   0 ┃   0 ┃   0 ┃   0 ┃   0 ┃   0 ┃   0 ┃   0 ┃\n",
            "┣━━━━━╋━━━━━╋━━━━━╋━━━━━╋━━━━━╋━━━━━╋━━━━━╋━━━━━╋━━━━━╋━━━━━╋━━━━━╋━━━━━╋━━━━━╋━━━━━┫\n",
            "┃ D   ┃   1 ┃  -1 ┃   0 ┃   0 ┃   0 ┃   0 ┃   0 ┃   0 ┃   0 ┃   0 ┃   0 ┃   0 ┃   0 ┃\n",
            "┣━━━━━╋━━━━━╋━━━━━╋━━━━━╋━━━━━╋━━━━━╋━━━━━╋━━━━━╋━━━━━╋━━━━━╋━━━━━╋━━━━━╋━━━━━╋━━━━━┫\n",
            "┃ A   ┃   2 ┃  -2 ┃   0 ┃   0 ┃   0 ┃   0 ┃   0 ┃   0 ┃   0 ┃   0 ┃   0 ┃   0 ┃   0 ┃\n",
            "┣━━━━━╋━━━━━╋━━━━━╋━━━━━╋━━━━━╋━━━━━╋━━━━━╋━━━━━╋━━━━━╋━━━━━╋━━━━━╋━━━━━╋━━━━━╋━━━━━┫\n",
            "┃ D   ┃   3 ┃  -3 ┃   0 ┃   0 ┃   0 ┃   0 ┃   0 ┃   0 ┃   0 ┃   0 ┃   0 ┃   0 ┃   0 ┃\n",
            "┗━━━━━┻━━━━━┻━━━━━┻━━━━━┻━━━━━┻━━━━━┻━━━━━┻━━━━━┻━━━━━┻━━━━━┻━━━━━┻━━━━━┻━━━━━┻━━━━━┛\n",
            "┏━━━━━┳━━━━━┳━━━━━┳━━━━━┳━━━━━┳━━━━━┳━━━━━┳━━━━━┳━━━━━┳━━━━━┳━━━━━┳━━━━━┳━━━━━┳━━━━━┓\n",
            "┃     ┃   T ┃     ┃   N ┃   O ┃   T ┃   A ┃   B ┃   A ┃   D ┃   I ┃   D ┃   E ┃   A ┃\n",
            "┣━━━━━╋━━━━━╋━━━━━╋━━━━━╋━━━━━╋━━━━━╋━━━━━╋━━━━━╋━━━━━╋━━━━━╋━━━━━╋━━━━━╋━━━━━╋━━━━━┫\n",
            "┃ P   ┃   0 ┃   0 ┃   1 ┃   2 ┃   3 ┃   4 ┃   5 ┃   6 ┃   7 ┃   8 ┃   9 ┃  10 ┃  11 ┃\n",
            "┣━━━━━╋━━━━━╋━━━━━╋━━━━━╋━━━━━╋━━━━━╋━━━━━╋━━━━━╋━━━━━╋━━━━━╋━━━━━╋━━━━━╋━━━━━╋━━━━━┫\n",
            "┃     ┃   0 ┃   0 ┃   0 ┃   0 ┃   0 ┃   0 ┃   0 ┃   0 ┃   0 ┃   0 ┃   0 ┃   0 ┃   0 ┃\n",
            "┣━━━━━╋━━━━━╋━━━━━╋━━━━━╋━━━━━╋━━━━━╋━━━━━╋━━━━━╋━━━━━╋━━━━━╋━━━━━╋━━━━━╋━━━━━╋━━━━━┫\n",
            "┃ D   ┃   1 ┃  -1 ┃  -1 ┃  -1 ┃  -1 ┃  -1 ┃  -1 ┃  -1 ┃   5 ┃   4 ┃   5 ┃   4 ┃   3 ┃\n",
            "┣━━━━━╋━━━━━╋━━━━━╋━━━━━╋━━━━━╋━━━━━╋━━━━━╋━━━━━╋━━━━━╋━━━━━╋━━━━━╋━━━━━╋━━━━━╋━━━━━┫\n",
            "┃ A   ┃   2 ┃  -2 ┃  -2 ┃  -2 ┃  -2 ┃   4 ┃   3 ┃   4 ┃   4 ┃   4 ┃   4 ┃   4 ┃   9 ┃\n",
            "┣━━━━━╋━━━━━╋━━━━━╋━━━━━╋━━━━━╋━━━━━╋━━━━━╋━━━━━╋━━━━━╋━━━━━╋━━━━━╋━━━━━╋━━━━━╋━━━━━┫\n",
            "┃ D   ┃   3 ┃  -3 ┃  -3 ┃  -3 ┃  -3 ┃   3 ┃   3 ┃   3 ┃   9 ┃   8 ┃   9 ┃   8 ┃   8 ┃\n",
            "┗━━━━━┻━━━━━┻━━━━━┻━━━━━┻━━━━━┻━━━━━┻━━━━━┻━━━━━┻━━━━━┻━━━━━┻━━━━━┻━━━━━┻━━━━━┻━━━━━┛\n",
            "┏━━━━━┳━━━━━┳━━━━━┳━━━━━┳━━━━━┳━━━━━┳━━━━━┳━━━━━┳━━━━━┳━━━━━┳━━━━━┳━━━━━┳━━━━━┳━━━━━┓\n",
            "┃     ┃ T   ┃     ┃ N   ┃ O   ┃ T   ┃ A   ┃ B   ┃ A   ┃ D   ┃ I   ┃ D   ┃ E   ┃ A   ┃\n",
            "┣━━━━━╋━━━━━╋━━━━━╋━━━━━╋━━━━━╋━━━━━╋━━━━━╋━━━━━╋━━━━━╋━━━━━╋━━━━━╋━━━━━╋━━━━━╋━━━━━┫\n",
            "┃ P   ┃     ┃     ┃ 1   ┃ 2   ┃ 3   ┃ 4   ┃ 5   ┃ 6   ┃ 7   ┃ 8   ┃ 9   ┃ 10  ┃ 11  ┃\n",
            "┣━━━━━╋━━━━━╋━━━━━╋━━━━━╋━━━━━╋━━━━━╋━━━━━╋━━━━━╋━━━━━╋━━━━━╋━━━━━╋━━━━━╋━━━━━╋━━━━━┫\n",
            "┃     ┃ 0   ┃ 0   ┃ 0   ┃ 0   ┃ 0   ┃ 0   ┃ 0   ┃ 0   ┃ 0   ┃ 0   ┃ 0   ┃ 0   ┃ 0   ┃\n",
            "┣━━━━━╋━━━━━╋━━━━━╋━━━━━╋━━━━━╋━━━━━╋━━━━━╋━━━━━╋━━━━━╋━━━━━╋━━━━━╋━━━━━╋━━━━━╋━━━━━┫\n",
            "┃ D   ┃ 1   ┃ ↑   ┃ ↖↑  ┃ ↖↑  ┃ ↖↑  ┃ ↖↑  ┃ ↖↑  ┃ ↖↑  ┃ ↖   ┃ ←   ┃ ↖   ┃ ←   ┃ ←   ┃\n",
            "┣━━━━━╋━━━━━╋━━━━━╋━━━━━╋━━━━━╋━━━━━╋━━━━━╋━━━━━╋━━━━━╋━━━━━╋━━━━━╋━━━━━╋━━━━━╋━━━━━┫\n",
            "┃ A   ┃ 2   ┃ ↑   ┃ ↖↑  ┃ ↖↑  ┃ ↖↑  ┃ ↖   ┃ ←   ┃ ↖   ┃ ↑   ┃ ↖   ┃ ↑   ┃ ↖   ┃ ↖   ┃\n",
            "┣━━━━━╋━━━━━╋━━━━━╋━━━━━╋━━━━━╋━━━━━╋━━━━━╋━━━━━╋━━━━━╋━━━━━╋━━━━━╋━━━━━╋━━━━━╋━━━━━┫\n",
            "┃ D   ┃ 3   ┃ ↑   ┃ ↖↑  ┃ ↖↑  ┃ ↖↑  ┃ ↑   ┃ ↖   ┃ ↑   ┃ ↖   ┃ ←   ┃ ↖   ┃ ←   ┃ ↑   ┃\n",
            "┗━━━━━┻━━━━━┻━━━━━┻━━━━━┻━━━━━┻━━━━━┻━━━━━┻━━━━━┻━━━━━┻━━━━━┻━━━━━┻━━━━━┻━━━━━┻━━━━━┛\n"
          ]
        }
      ]
    }
  ]
}