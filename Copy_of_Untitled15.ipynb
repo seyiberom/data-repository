{
  "nbformat": 4,
  "nbformat_minor": 0,
  "metadata": {
    "colab": {
      "provenance": [],
      "include_colab_link": true
    },
    "kernelspec": {
      "name": "python3",
      "display_name": "Python 3"
    },
    "language_info": {
      "name": "python"
    }
  },
  "cells": [
    {
      "cell_type": "markdown",
      "metadata": {
        "id": "view-in-github",
        "colab_type": "text"
      },
      "source": [
        "<a href=\"https://colab.research.google.com/github/seyiberom/data-repository/blob/main/Copy_of_Untitled15.ipynb\" target=\"_parent\"><img src=\"https://colab.research.google.com/assets/colab-badge.svg\" alt=\"Open In Colab\"/></a>"
      ]
    },
    {
      "cell_type": "code",
      "execution_count": null,
      "metadata": {
        "id": "xNe56VN7kEjh"
      },
      "outputs": [],
      "source": [
        "# \"Edit Distanc\n"
      ]
    },
    {
      "cell_type": "code",
      "source": [
        "!pip install pprintpp\n",
        "import numpy as np\n",
        "from tabulate import tabulate"
      ],
      "metadata": {
        "colab": {
          "base_uri": "https://localhost:8080/"
        },
        "id": "xzdrPSViBH0H",
        "outputId": "88082409-6f7a-4446-e4c2-bcb7a077de6a"
      },
      "execution_count": null,
      "outputs": [
        {
          "output_type": "stream",
          "name": "stdout",
          "text": [
            "Requirement already satisfied: pprintpp in /usr/local/lib/python3.10/dist-packages (0.4.0)\n"
          ]
        }
      ]
    },
    {
      "cell_type": "code",
      "source": [
        "def print_table(D, head, ind):\n",
        "    df = tabulate(D, headers = [head[p] for p in range(0,len(head))], showindex = [ind[t] for t in range(1, len(ind))] , tablefmt='heavy_grid')\n",
        "    print(df)"
      ],
      "metadata": {
        "id": "HTAcsNkeQ2yv"
      },
      "execution_count": null,
      "outputs": []
    },
    {
      "cell_type": "code",
      "source": [
        "# edit distance problem\n",
        "# setting up initial parameters, tabluation and initial table values\n",
        "\n",
        "s1 = \"winter\"\n",
        "s2 = \"writer\"\n",
        "m = len(s1)\n",
        "n = len (s2)\n",
        "from tabulate import tabulate\n",
        "n = len(s1)\n",
        "m = len (s2)\n",
        "head = []\n",
        "ind = []\n",
        "head = [\"\"] * (n+3)\n",
        "head[0] = \" \"\n",
        "head[1] = \"S2\"\n",
        "head[2] = \" \"\n",
        "ind = [\"\"] * (m+3)\n",
        "ind[0] = \" \"\n",
        "ind[1] = \"S1\"\n",
        "ind[2] = \" \"\n",
        "for t in range(2, n+2):\n",
        "    head[t+1] = s2[t-2]\n",
        "for t in range(2,m+2):\n",
        "    ind[t+1] = s1[t-2]\n",
        "# fill the table with initial value\n",
        "pointer = [[\"\"] * (n+2) for i in range(0, m+2)]\n",
        "D = [[0] * (m+2) for i in range(0, n+2)]\n",
        "for i in range(2, m+2):\n",
        "    for j in range (2, n+2):\n",
        "        D[0][j] = j-1\n",
        "        pointer[0][j] = str(j-1)\n",
        "        D[1][j] = j-1\n",
        "        pointer[1][j] = \"←\"\n",
        "\n",
        "    D[i][0] = i-1\n",
        "    pointer[i][0] = str(i-1)\n",
        "    D[i][1] = i -1\n",
        "    pointer[i][1] = \"↑\"\n",
        "\n",
        "# print initial table\n",
        "print_table(D, head, ind)\n",
        "print_table(pointer, head, ind)"
      ],
      "metadata": {
        "colab": {
          "base_uri": "https://localhost:8080/"
        },
        "id": "fAvdfb2ykQbN",
        "outputId": "d3d6a354-32ed-48f3-ba89-d80b2223a8f5"
      },
      "execution_count": null,
      "outputs": [
        {
          "output_type": "stream",
          "name": "stdout",
          "text": [
            "┏━━━━━┳━━━━━━┳━━━━━┳━━━━━┳━━━━━┳━━━━━┳━━━━━┳━━━━━┳━━━━━┓\n",
            "┃     ┃   S2 ┃     ┃   w ┃   r ┃   i ┃   t ┃   e ┃   r ┃\n",
            "┣━━━━━╋━━━━━━╋━━━━━╋━━━━━╋━━━━━╋━━━━━╋━━━━━╋━━━━━╋━━━━━┫\n",
            "┃ S1  ┃    0 ┃   0 ┃   1 ┃   2 ┃   3 ┃   4 ┃   5 ┃   6 ┃\n",
            "┣━━━━━╋━━━━━━╋━━━━━╋━━━━━╋━━━━━╋━━━━━╋━━━━━╋━━━━━╋━━━━━┫\n",
            "┃     ┃    0 ┃   0 ┃   1 ┃   2 ┃   3 ┃   4 ┃   5 ┃   6 ┃\n",
            "┣━━━━━╋━━━━━━╋━━━━━╋━━━━━╋━━━━━╋━━━━━╋━━━━━╋━━━━━╋━━━━━┫\n",
            "┃ w   ┃    1 ┃   1 ┃   0 ┃   0 ┃   0 ┃   0 ┃   0 ┃   0 ┃\n",
            "┣━━━━━╋━━━━━━╋━━━━━╋━━━━━╋━━━━━╋━━━━━╋━━━━━╋━━━━━╋━━━━━┫\n",
            "┃ i   ┃    2 ┃   2 ┃   0 ┃   0 ┃   0 ┃   0 ┃   0 ┃   0 ┃\n",
            "┣━━━━━╋━━━━━━╋━━━━━╋━━━━━╋━━━━━╋━━━━━╋━━━━━╋━━━━━╋━━━━━┫\n",
            "┃ n   ┃    3 ┃   3 ┃   0 ┃   0 ┃   0 ┃   0 ┃   0 ┃   0 ┃\n",
            "┣━━━━━╋━━━━━━╋━━━━━╋━━━━━╋━━━━━╋━━━━━╋━━━━━╋━━━━━╋━━━━━┫\n",
            "┃ t   ┃    4 ┃   4 ┃   0 ┃   0 ┃   0 ┃   0 ┃   0 ┃   0 ┃\n",
            "┣━━━━━╋━━━━━━╋━━━━━╋━━━━━╋━━━━━╋━━━━━╋━━━━━╋━━━━━╋━━━━━┫\n",
            "┃ e   ┃    5 ┃   5 ┃   0 ┃   0 ┃   0 ┃   0 ┃   0 ┃   0 ┃\n",
            "┣━━━━━╋━━━━━━╋━━━━━╋━━━━━╋━━━━━╋━━━━━╋━━━━━╋━━━━━╋━━━━━┫\n",
            "┃ r   ┃    6 ┃   6 ┃   0 ┃   0 ┃   0 ┃   0 ┃   0 ┃   0 ┃\n",
            "┗━━━━━┻━━━━━━┻━━━━━┻━━━━━┻━━━━━┻━━━━━┻━━━━━┻━━━━━┻━━━━━┛\n",
            "┏━━━━━┳━━━━━━┳━━━━━┳━━━━━┳━━━━━┳━━━━━┳━━━━━┳━━━━━┳━━━━━┓\n",
            "┃     ┃ S2   ┃     ┃ w   ┃ r   ┃ i   ┃ t   ┃ e   ┃ r   ┃\n",
            "┣━━━━━╋━━━━━━╋━━━━━╋━━━━━╋━━━━━╋━━━━━╋━━━━━╋━━━━━╋━━━━━┫\n",
            "┃ S1  ┃      ┃     ┃ 1   ┃ 2   ┃ 3   ┃ 4   ┃ 5   ┃ 6   ┃\n",
            "┣━━━━━╋━━━━━━╋━━━━━╋━━━━━╋━━━━━╋━━━━━╋━━━━━╋━━━━━╋━━━━━┫\n",
            "┃     ┃      ┃     ┃ ←   ┃ ←   ┃ ←   ┃ ←   ┃ ←   ┃ ←   ┃\n",
            "┣━━━━━╋━━━━━━╋━━━━━╋━━━━━╋━━━━━╋━━━━━╋━━━━━╋━━━━━╋━━━━━┫\n",
            "┃ w   ┃ 1    ┃ ↑   ┃     ┃     ┃     ┃     ┃     ┃     ┃\n",
            "┣━━━━━╋━━━━━━╋━━━━━╋━━━━━╋━━━━━╋━━━━━╋━━━━━╋━━━━━╋━━━━━┫\n",
            "┃ i   ┃ 2    ┃ ↑   ┃     ┃     ┃     ┃     ┃     ┃     ┃\n",
            "┣━━━━━╋━━━━━━╋━━━━━╋━━━━━╋━━━━━╋━━━━━╋━━━━━╋━━━━━╋━━━━━┫\n",
            "┃ n   ┃ 3    ┃ ↑   ┃     ┃     ┃     ┃     ┃     ┃     ┃\n",
            "┣━━━━━╋━━━━━━╋━━━━━╋━━━━━╋━━━━━╋━━━━━╋━━━━━╋━━━━━╋━━━━━┫\n",
            "┃ t   ┃ 4    ┃ ↑   ┃     ┃     ┃     ┃     ┃     ┃     ┃\n",
            "┣━━━━━╋━━━━━━╋━━━━━╋━━━━━╋━━━━━╋━━━━━╋━━━━━╋━━━━━╋━━━━━┫\n",
            "┃ e   ┃ 5    ┃ ↑   ┃     ┃     ┃     ┃     ┃     ┃     ┃\n",
            "┣━━━━━╋━━━━━━╋━━━━━╋━━━━━╋━━━━━╋━━━━━╋━━━━━╋━━━━━╋━━━━━┫\n",
            "┃ r   ┃ 6    ┃ ↑   ┃     ┃     ┃     ┃     ┃     ┃     ┃\n",
            "┗━━━━━┻━━━━━━┻━━━━━┻━━━━━┻━━━━━┻━━━━━┻━━━━━┻━━━━━┻━━━━━┛\n"
          ]
        }
      ]
    },
    {
      "cell_type": "code",
      "source": [
        "\n",
        "\n",
        "# filling up of other table values\n",
        "\n",
        "for i in range(2, m+2):\n",
        "    for j in range (2, n+2):\n",
        "        param1 = D[i-1][j] + 1\n",
        "        param2 = D[i][j-1] + 1\n",
        "        if s1[i-2] == s2[j-2]:\n",
        "            t = 0\n",
        "        else:\n",
        "            t = 1\n",
        "        param3 = D[i-1][j-1] + t\n",
        "        min_d = min(param1, param2, param3)\n",
        "        D[i][j] = min_d\n",
        "        point = \"\"\n",
        "        if min_d == param2:\n",
        "            point = point  + \"←\"\n",
        "        if min_d == param3:\n",
        "            point = point  + \"↖\"\n",
        "        if min_d == param1:\n",
        "            point = point  + \"↑\"\n",
        "        pointer[i][j] = point\n",
        "\n",
        "print_table(D, head, ind)\n",
        "print_table(pointer, head, ind)"
      ],
      "metadata": {
        "colab": {
          "base_uri": "https://localhost:8080/"
        },
        "id": "ZJ8MI05Px5Nl",
        "outputId": "02d4ec62-0631-47f7-9805-3ccb1d82453b"
      },
      "execution_count": null,
      "outputs": [
        {
          "output_type": "stream",
          "name": "stdout",
          "text": [
            "┏━━━━━┳━━━━━━┳━━━━━┳━━━━━┳━━━━━┳━━━━━┳━━━━━┳━━━━━┳━━━━━┓\n",
            "┃     ┃   S2 ┃     ┃   w ┃   r ┃   i ┃   t ┃   e ┃   r ┃\n",
            "┣━━━━━╋━━━━━━╋━━━━━╋━━━━━╋━━━━━╋━━━━━╋━━━━━╋━━━━━╋━━━━━┫\n",
            "┃ S1  ┃    0 ┃   0 ┃   1 ┃   2 ┃   3 ┃   4 ┃   5 ┃   6 ┃\n",
            "┣━━━━━╋━━━━━━╋━━━━━╋━━━━━╋━━━━━╋━━━━━╋━━━━━╋━━━━━╋━━━━━┫\n",
            "┃     ┃    0 ┃   0 ┃   1 ┃   2 ┃   3 ┃   4 ┃   5 ┃   6 ┃\n",
            "┣━━━━━╋━━━━━━╋━━━━━╋━━━━━╋━━━━━╋━━━━━╋━━━━━╋━━━━━╋━━━━━┫\n",
            "┃ w   ┃    1 ┃   1 ┃   0 ┃   1 ┃   2 ┃   3 ┃   4 ┃   5 ┃\n",
            "┣━━━━━╋━━━━━━╋━━━━━╋━━━━━╋━━━━━╋━━━━━╋━━━━━╋━━━━━╋━━━━━┫\n",
            "┃ i   ┃    2 ┃   2 ┃   1 ┃   1 ┃   1 ┃   2 ┃   3 ┃   4 ┃\n",
            "┣━━━━━╋━━━━━━╋━━━━━╋━━━━━╋━━━━━╋━━━━━╋━━━━━╋━━━━━╋━━━━━┫\n",
            "┃ n   ┃    3 ┃   3 ┃   2 ┃   2 ┃   2 ┃   2 ┃   3 ┃   4 ┃\n",
            "┣━━━━━╋━━━━━━╋━━━━━╋━━━━━╋━━━━━╋━━━━━╋━━━━━╋━━━━━╋━━━━━┫\n",
            "┃ t   ┃    4 ┃   4 ┃   3 ┃   3 ┃   3 ┃   2 ┃   3 ┃   4 ┃\n",
            "┣━━━━━╋━━━━━━╋━━━━━╋━━━━━╋━━━━━╋━━━━━╋━━━━━╋━━━━━╋━━━━━┫\n",
            "┃ e   ┃    5 ┃   5 ┃   4 ┃   4 ┃   4 ┃   3 ┃   2 ┃   3 ┃\n",
            "┣━━━━━╋━━━━━━╋━━━━━╋━━━━━╋━━━━━╋━━━━━╋━━━━━╋━━━━━╋━━━━━┫\n",
            "┃ r   ┃    6 ┃   6 ┃   5 ┃   4 ┃   5 ┃   4 ┃   3 ┃   2 ┃\n",
            "┗━━━━━┻━━━━━━┻━━━━━┻━━━━━┻━━━━━┻━━━━━┻━━━━━┻━━━━━┻━━━━━┛\n",
            "┏━━━━━┳━━━━━━┳━━━━━┳━━━━━┳━━━━━┳━━━━━┳━━━━━┳━━━━━┳━━━━━┓\n",
            "┃     ┃ S2   ┃     ┃ w   ┃ r   ┃ i   ┃ t   ┃ e   ┃ r   ┃\n",
            "┣━━━━━╋━━━━━━╋━━━━━╋━━━━━╋━━━━━╋━━━━━╋━━━━━╋━━━━━╋━━━━━┫\n",
            "┃ S1  ┃      ┃     ┃ 1   ┃ 2   ┃ 3   ┃ 4   ┃ 5   ┃ 6   ┃\n",
            "┣━━━━━╋━━━━━━╋━━━━━╋━━━━━╋━━━━━╋━━━━━╋━━━━━╋━━━━━╋━━━━━┫\n",
            "┃     ┃      ┃     ┃ ←   ┃ ←   ┃ ←   ┃ ←   ┃ ←   ┃ ←   ┃\n",
            "┣━━━━━╋━━━━━━╋━━━━━╋━━━━━╋━━━━━╋━━━━━╋━━━━━╋━━━━━╋━━━━━┫\n",
            "┃ w   ┃ 1    ┃ ↑   ┃ ↖   ┃ ←   ┃ ←   ┃ ←   ┃ ←   ┃ ←   ┃\n",
            "┣━━━━━╋━━━━━━╋━━━━━╋━━━━━╋━━━━━╋━━━━━╋━━━━━╋━━━━━╋━━━━━┫\n",
            "┃ i   ┃ 2    ┃ ↑   ┃ ↑   ┃ ↖   ┃ ↖   ┃ ←   ┃ ←   ┃ ←   ┃\n",
            "┣━━━━━╋━━━━━━╋━━━━━╋━━━━━╋━━━━━╋━━━━━╋━━━━━╋━━━━━╋━━━━━┫\n",
            "┃ n   ┃ 3    ┃ ↑   ┃ ↑   ┃ ↖↑  ┃ ↖↑  ┃ ↖   ┃ ←↖  ┃ ←↖  ┃\n",
            "┣━━━━━╋━━━━━━╋━━━━━╋━━━━━╋━━━━━╋━━━━━╋━━━━━╋━━━━━╋━━━━━┫\n",
            "┃ t   ┃ 4    ┃ ↑   ┃ ↑   ┃ ↖↑  ┃ ↖↑  ┃ ↖   ┃ ←↖  ┃ ←↖  ┃\n",
            "┣━━━━━╋━━━━━━╋━━━━━╋━━━━━╋━━━━━╋━━━━━╋━━━━━╋━━━━━╋━━━━━┫\n",
            "┃ e   ┃ 5    ┃ ↑   ┃ ↑   ┃ ↖↑  ┃ ↖↑  ┃ ↑   ┃ ↖   ┃ ←   ┃\n",
            "┣━━━━━╋━━━━━━╋━━━━━╋━━━━━╋━━━━━╋━━━━━╋━━━━━╋━━━━━╋━━━━━┫\n",
            "┃ r   ┃ 6    ┃ ↑   ┃ ↑   ┃ ↖   ┃ ←↖↑ ┃ ↑   ┃ ↑   ┃ ↖   ┃\n",
            "┗━━━━━┻━━━━━━┻━━━━━┻━━━━━┻━━━━━┻━━━━━┻━━━━━┻━━━━━┻━━━━━┛\n"
          ]
        }
      ]
    }
  ]
}